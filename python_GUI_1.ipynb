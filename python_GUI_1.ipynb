{
 "cells": [
  {
   "cell_type": "code",
   "execution_count": 1,
   "id": "7b11a409",
   "metadata": {},
   "outputs": [],
   "source": [
    "# gui는 그래피컬 유저 인터페이스이다. 즉 유저에게 그래픽으로 보여주는 인터페이스이다.\n",
    "# tk inter을 이용해서 만든다. 전체 창이 있고 위젯이 있다. \n",
    "from tkinter import * # 모든 tk인터의 함수를 쓰겠다."
   ]
  },
  {
   "cell_type": "code",
   "execution_count": 15,
   "id": "0a4f9a9e",
   "metadata": {},
   "outputs": [],
   "source": [
    "win = Tk() # 창 생성\n",
    "win.geometry('500x500') # 창 크기 설정\n",
    "win.title(\"초보코딩\") # 창 이름 설정 \n",
    "win.option_add('*Font','맑은고딕 25') # 창 폰트 설정 폰트크기가 작아서 설정하였다. \n",
    "\n",
    "btn = Button(win, text = '버튼')# 버튼 만들기. 내부에 버튼이라고 작성하기\n",
    "btn.pack()# 버튼을 배치하기 "
   ]
  },
  {
   "cell_type": "code",
   "execution_count": 16,
   "id": "9c6f9a52",
   "metadata": {},
   "outputs": [],
   "source": [
    "win.mainloop()# 창 실행"
   ]
  },
  {
   "cell_type": "code",
   "execution_count": 17,
   "id": "639c87e3",
   "metadata": {},
   "outputs": [],
   "source": [
    "#------------------------------------------------------------------------"
   ]
  },
  {
   "cell_type": "code",
   "execution_count": 18,
   "id": "957a18db",
   "metadata": {},
   "outputs": [],
   "source": [
    "# 현재시각 출력하는 프로그램 만들기"
   ]
  },
  {
   "cell_type": "code",
   "execution_count": 28,
   "id": "58793936",
   "metadata": {},
   "outputs": [],
   "source": [
    "def alert():\n",
    "    print(\"버튼이 눌림\")"
   ]
  },
  {
   "cell_type": "code",
   "execution_count": 29,
   "id": "5b160cfc",
   "metadata": {},
   "outputs": [],
   "source": [
    "win = Tk() \n",
    "win.geometry('500x500') \n",
    "win.title(\"초보코딩 2강\") \n",
    "win.option_add('*Font','맑은고딕 25')\n",
    "\n",
    "btn = Button(win)# 버튼 만들기\n",
    "btn.config(width=20,height=20)# 버튼크기를 설정하기\n",
    "btn.config(text='버튼') # 버튼 내부에 적는 내용\n",
    "btn.config(command = alert) # 버튼의 기능 선택 alert는 안내글자 출력하기\n",
    "btn.pack()# 버튼을 배치하기 "
   ]
  },
  {
   "cell_type": "code",
   "execution_count": 31,
   "id": "1924208a",
   "metadata": {},
   "outputs": [],
   "source": [
    "win.mainloop()"
   ]
  },
  {
   "cell_type": "code",
   "execution_count": 32,
   "id": "227db3b3",
   "metadata": {},
   "outputs": [
    {
     "name": "stdout",
     "output_type": "stream",
     "text": [
      "Collecting datetime\n",
      "  Downloading DateTime-5.2-py3-none-any.whl (52 kB)\n",
      "     ---------------------------------------- 52.2/52.2 kB ? eta 0:00:00\n",
      "Requirement already satisfied: pytz in c:\\users\\user\\anaconda3\\lib\\site-packages (from datetime) (2022.1)\n",
      "Requirement already satisfied: zope.interface in c:\\users\\user\\anaconda3\\lib\\site-packages (from datetime) (5.4.0)\n",
      "Requirement already satisfied: setuptools in c:\\users\\user\\anaconda3\\lib\\site-packages (from zope.interface->datetime) (63.4.1)\n",
      "Installing collected packages: datetime\n",
      "Successfully installed datetime-5.2\n",
      "Note: you may need to restart the kernel to use updated packages.\n"
     ]
    }
   ],
   "source": [
    "pip install datetime"
   ]
  },
  {
   "cell_type": "code",
   "execution_count": 34,
   "id": "d0915c51",
   "metadata": {},
   "outputs": [],
   "source": [
    "from datetime import datetime # 시간함수 부르기\n",
    "def what_time():\n",
    "    print(datetime.now()) # 현재 시간 출력하기.\n"
   ]
  },
  {
   "cell_type": "code",
   "execution_count": 35,
   "id": "bd856a22",
   "metadata": {},
   "outputs": [],
   "source": [
    "win = Tk() \n",
    "win.geometry('500x500') \n",
    "win.title(\"초보코딩 2강 시간보기\") \n",
    "win.option_add('*Font','맑은고딕 25')\n",
    "\n",
    "btn = Button(win)# 버튼 만들기\n",
    "btn.config(width=20,height=20)# 버튼크기를 설정하기\n",
    "btn.config(text='버튼') # 버튼 내부에 적는 내용\n",
    "btn.config(command = what_time) # 버튼의 기능 선택 시간출력\n",
    "btn.pack()# 버튼을 배치하기 "
   ]
  },
  {
   "cell_type": "code",
   "execution_count": 36,
   "id": "127d5322",
   "metadata": {},
   "outputs": [
    {
     "name": "stdout",
     "output_type": "stream",
     "text": [
      "2023-10-24 23:10:50.938736\n"
     ]
    }
   ],
   "source": [
    "win.mainloop()"
   ]
  },
  {
   "cell_type": "code",
   "execution_count": 39,
   "id": "af820e41",
   "metadata": {},
   "outputs": [],
   "source": [
    "# 버튼 내부에 출력하기 \n",
    "def what_time():\n",
    "    dnow = datetime.now() # 현재 시간 변수에 담기\n",
    "    btn.config(text= dnow) # 버튼 내부의 글자를 현재시간으로 바꾸기\n",
    "    \n",
    "win = Tk() \n",
    "win.geometry('500x500') \n",
    "win.title(\"초보코딩 2강 시간보기\") \n",
    "win.option_add('*Font','맑은고딕 25')\n",
    "\n",
    "btn = Button(win)# 버튼 만들기\n",
    "btn.config(width=20,height=20)\n",
    "btn.config(text='버튼') \n",
    "btn.config(command = what_time) # 버튼의 기능 함수실행\n",
    "btn.pack()"
   ]
  },
  {
   "cell_type": "code",
   "execution_count": 40,
   "id": "13cd601e",
   "metadata": {},
   "outputs": [],
   "source": [
    "win.mainloop()"
   ]
  },
  {
   "cell_type": "code",
   "execution_count": null,
   "id": "e60357e4",
   "metadata": {},
   "outputs": [],
   "source": []
  }
 ],
 "metadata": {
  "kernelspec": {
   "display_name": "Python 3 (ipykernel)",
   "language": "python",
   "name": "python3"
  },
  "language_info": {
   "codemirror_mode": {
    "name": "ipython",
    "version": 3
   },
   "file_extension": ".py",
   "mimetype": "text/x-python",
   "name": "python",
   "nbconvert_exporter": "python",
   "pygments_lexer": "ipython3",
   "version": "3.9.13"
  }
 },
 "nbformat": 4,
 "nbformat_minor": 5
}
